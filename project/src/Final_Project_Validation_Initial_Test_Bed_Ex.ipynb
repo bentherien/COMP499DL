{
  "nbformat": 4,
  "nbformat_minor": 0,
  "metadata": {
    "colab": {
      "name": "Final_Project_Validation_Initial_Test_Bed_Ex.ipynb",
      "provenance": []
    },
    "kernelspec": {
      "name": "python3",
      "display_name": "Python 3"
    },
    "accelerator": "GPU"
  },
  "cells": [
    {
      "cell_type": "markdown",
      "metadata": {
        "id": "vV6DxGkPeQDD"
      },
      "source": [
        "***Challenge 1***"
      ]
    },
    {
      "cell_type": "markdown",
      "metadata": {
        "id": "72hfgxjTd_lk"
      },
      "source": [
        "Here the goal is to train on 100 samples. In this preliminary testbed the evaluation will be done on a 2000 sample validation set. Note in the end the final evaluation will be done on the full CIFAR-10 test set as well as potentially a separate dataset. The validation samples here should not be used for training in any way, the final evaluation will provide only random samples of 100 from a datasource that is not the CIFAR-10 training data. "
      ]
    },
    {
      "cell_type": "markdown",
      "metadata": {
        "id": "zk0Ilt_-duk2"
      },
      "source": [
        "Feel free to modify this testbed to your liking, including the normalization transformations etc. Note however the final evaluation testbed will have a rigid set of components where you will need to place your answer. The only constraint is the data. Refer to the full project instructions for more information.\n"
      ]
    },
    {
      "cell_type": "markdown",
      "metadata": {
        "id": "MWyBTUe3idZI"
      },
      "source": [
        "Setup training functions. Again you are free to fully modify this testbed in your prototyping within the constraints of the data used. You can use tools outside of pytorch for training models if desired as well although the torchvision dataloaders will still be useful for interacting with the cifar-10 dataset. "
      ]
    },
    {
      "cell_type": "code",
      "metadata": {
        "id": "N7soYNWEedl9"
      },
      "source": [
        "def train(model, device, train_loader, optimizer, epoch, display=True):\n",
        "    model.train()\n",
        "    for batch_idx, (data, target) in enumerate(train_loader):\n",
        "        data, target = data.to(device), target.to(device)\n",
        "        optimizer.zero_grad()\n",
        "        output = model(data)\n",
        "        loss = F.cross_entropy(output, target)\n",
        "        loss.backward()\n",
        "        optimizer.step()\n",
        "    if display:\n",
        "      print('Train Epoch: {} [{}/{} ({:.0f}%)]\\tLoss: {:.6f}'.format(\n",
        "          epoch, batch_idx * len(data), len(train_loader.dataset),\n",
        "          100. * batch_idx / len(train_loader), loss.item()))\n",
        "\n",
        "def test(model, device, test_loader):\n",
        "    model.eval()\n",
        "    test_loss = 0\n",
        "    correct = 0\n",
        "    with torch.no_grad():\n",
        "        for data, target in test_loader:\n",
        "            data, target = data.to(device), target.to(device)\n",
        "            output = model(data)\n",
        "            test_loss += F.cross_entropy(output, target, size_average=False).item() # sum up batch loss\n",
        "            pred = output.max(1, keepdim=True)[1] # get the index of the max log-probability\n",
        "            correct += pred.eq(target.view_as(pred)).sum().item()\n",
        "\n",
        "    test_loss /= len(test_loader.dataset)\n",
        "    print('\\nTest set: Average loss: {:.4f}, Accuracy: {}/{} ({:.2f}%)\\n'.format(\n",
        "        test_loss, correct, len(test_loader.dataset),\n",
        "        100. * correct / len(test_loader.dataset)))\n",
        "    return 100. * correct / len(test_loader.dataset)"
      ],
      "execution_count": null,
      "outputs": []
    },
    {
      "cell_type": "code",
      "metadata": {
        "id": "G4hpe7QbQFnr"
      },
      "source": [
        "import torch.nn as nn \n",
        "import torch.nn.functional as F\n",
        "\n",
        "class Net(torch.nn.Module):\n",
        "    def __init__(self):\n",
        "        super(Net, self).__init__()\n",
        "        self.layers = nn.ModuleList()\n",
        "        \n",
        "        self.layers+=[nn.Conv2d(3, 16,  kernel_size=3) , \n",
        "                      nn.ReLU(inplace=True)]\n",
        "        self.layers+=[nn.Conv2d(16, 16,  kernel_size=3, stride=2), \n",
        "                      nn.ReLU(inplace=True)]\n",
        "        self.layers+=[nn.Conv2d(16, 32,  kernel_size=3), \n",
        "                      nn.ReLU(inplace=True)]\n",
        "        self.layers+=[nn.Conv2d(32, 32,  kernel_size=3, stride=2), \n",
        "                      nn.ReLU(inplace=True)]\n",
        "        self.fc = nn.Linear(32*5*5, 10)\n",
        "    def forward(self, x):\n",
        "        for i in range(len(self.layers)):\n",
        "          x = self.layers[i](x)\n",
        "        x = x.view(-1, 32*5*5)\n",
        "        x = self.fc(x)\n",
        "        return x"
      ],
      "execution_count": null,
      "outputs": []
    },
    {
      "cell_type": "markdown",
      "metadata": {
        "id": "jPjWBE4MerTX"
      },
      "source": [
        "The below tries  2 random problem instances. In your development you may choose to prototype with 1 problem instances but keep in mind for small sample problems the variance is high so continously evaluating on several subsets will be important."
      ]
    },
    {
      "cell_type": "code",
      "metadata": {
        "id": "6v7xU1HMelJ3",
        "colab": {
          "base_uri": "https://localhost:8080/"
        },
        "outputId": "d3cfe2a3-6d29-42eb-ace8-0700b50191b2"
      },
      "source": [
        "from numpy.random import RandomState\n",
        "import numpy as np\n",
        "import torch\n",
        "import torch.optim as optim\n",
        "from torch.utils.data import Subset\n",
        "\n",
        "  \n",
        "from torchvision import datasets, transforms\n",
        "normalize = transforms.Normalize(mean=[0.485, 0.456, 0.406],\n",
        "                                  std=[0.229, 0.224, 0.225])\n",
        "\n",
        "transform_val = transforms.Compose([transforms.ToTensor(), normalize]) #careful to keep this one same\n",
        "transform_train = transforms.Compose([transforms.ToTensor(), normalize]) \n",
        "\n",
        "use_cuda = torch.cuda.is_available()\n",
        "device = torch.device(\"cuda\" if use_cuda else \"cpu\")\n",
        "\n",
        "##### Cifar Data\n",
        "cifar_data = datasets.CIFAR10(root='.',train=True, transform=transform_train, download=True)\n",
        "    \n",
        "#We need two copies of this due to weird dataset api \n",
        "cifar_data_val = datasets.CIFAR10(root='.',train=True, transform=transform_val, download=True)\n",
        "    \n",
        "# Extract a subset of 100 (class balanced) samples per class\n",
        "\n",
        "accs = []\n",
        "\n",
        "for seed in [1,2]:\n",
        "  prng = RandomState(seed)\n",
        "  random_permute = prng.permutation(np.arange(0, 5000))\n",
        "  indx_train = np.concatenate([np.where(np.array(cifar_data.targets) == classe)[0][random_permute[0:10]] for classe in range(0, 10)])\n",
        "  indx_val = np.concatenate([np.where(np.array(cifar_data.targets) == classe)[0][random_permute[10:210]] for classe in range(0, 10)])\n",
        "\n",
        "\n",
        "  train_data = Subset(cifar_data, indx_train)\n",
        "  val_data = Subset(cifar_data_val, indx_val)\n",
        "\n",
        "  print('Num Samples For Training %d Num Samples For Val %d'%(train_data.indices.shape[0],val_data.indices.shape[0]))\n",
        "  \n",
        "  train_loader = torch.utils.data.DataLoader(train_data,\n",
        "                                             batch_size=128, \n",
        "                                             shuffle=True)\n",
        "\n",
        "  val_loader = torch.utils.data.DataLoader(val_data,\n",
        "                                           batch_size=128, \n",
        "                                           shuffle=False)\n",
        "  \n",
        "\n",
        "  model = Net()\n",
        "  model.to(device)\n",
        "  optimizer = torch.optim.SGD(model.parameters(), \n",
        "                              lr=0.01, momentum=0.9,\n",
        "                              weight_decay=0.0005)\n",
        "  for epoch in range(100):\n",
        "    train(model, device, train_loader, optimizer, epoch, display=epoch%5==0)\n",
        "    \n",
        "  accs.append(test(model, device, val_loader))\n",
        "\n",
        "accs = np.array(accs)\n",
        "print('Acc over 2 instances: %.2f +- %.2f'%(accs.mean(),accs.std()))\n"
      ],
      "execution_count": null,
      "outputs": [
        {
          "output_type": "stream",
          "text": [
            "Files already downloaded and verified\n",
            "Files already downloaded and verified\n",
            "Num Samples For Training 100 Num Samples For Val 2000\n",
            "Train Epoch: 0 [0/100 (0%)]\tLoss: 2.302286\n",
            "Train Epoch: 5 [0/100 (0%)]\tLoss: 2.301360\n",
            "Train Epoch: 10 [0/100 (0%)]\tLoss: 2.299233\n",
            "Train Epoch: 15 [0/100 (0%)]\tLoss: 2.296285\n",
            "Train Epoch: 20 [0/100 (0%)]\tLoss: 2.292279\n",
            "Train Epoch: 25 [0/100 (0%)]\tLoss: 2.286338\n",
            "Train Epoch: 30 [0/100 (0%)]\tLoss: 2.276244\n",
            "Train Epoch: 35 [0/100 (0%)]\tLoss: 2.255733\n",
            "Train Epoch: 40 [0/100 (0%)]\tLoss: 2.211310\n",
            "Train Epoch: 45 [0/100 (0%)]\tLoss: 2.154057\n",
            "Train Epoch: 50 [0/100 (0%)]\tLoss: 2.054544\n",
            "Train Epoch: 55 [0/100 (0%)]\tLoss: 1.912884\n",
            "Train Epoch: 60 [0/100 (0%)]\tLoss: 1.745162\n",
            "Train Epoch: 65 [0/100 (0%)]\tLoss: 1.548557\n",
            "Train Epoch: 70 [0/100 (0%)]\tLoss: 1.361159\n",
            "Train Epoch: 75 [0/100 (0%)]\tLoss: 1.323507\n",
            "Train Epoch: 80 [0/100 (0%)]\tLoss: 1.412675\n",
            "Train Epoch: 85 [0/100 (0%)]\tLoss: 1.078649\n",
            "Train Epoch: 90 [0/100 (0%)]\tLoss: 0.842692\n",
            "Train Epoch: 95 [0/100 (0%)]\tLoss: 0.493385\n"
          ],
          "name": "stdout"
        },
        {
          "output_type": "stream",
          "text": [
            "/usr/local/lib/python3.6/dist-packages/torch/nn/_reduction.py:44: UserWarning: size_average and reduce args will be deprecated, please use reduction='sum' instead.\n",
            "  warnings.warn(warning.format(ret))\n"
          ],
          "name": "stderr"
        },
        {
          "output_type": "stream",
          "text": [
            "\n",
            "Test set: Average loss: 7.5566, Accuracy: 384/2000 (19.20%)\n",
            "\n",
            "Num Samples For Training 100 Num Samples For Val 2000\n",
            "Train Epoch: 0 [0/100 (0%)]\tLoss: 2.302706\n",
            "Train Epoch: 5 [0/100 (0%)]\tLoss: 2.301484\n",
            "Train Epoch: 10 [0/100 (0%)]\tLoss: 2.298963\n",
            "Train Epoch: 15 [0/100 (0%)]\tLoss: 2.295718\n",
            "Train Epoch: 20 [0/100 (0%)]\tLoss: 2.291164\n",
            "Train Epoch: 25 [0/100 (0%)]\tLoss: 2.283609\n",
            "Train Epoch: 30 [0/100 (0%)]\tLoss: 2.268948\n",
            "Train Epoch: 35 [0/100 (0%)]\tLoss: 2.236839\n",
            "Train Epoch: 40 [0/100 (0%)]\tLoss: 2.181045\n",
            "Train Epoch: 45 [0/100 (0%)]\tLoss: 2.110200\n",
            "Train Epoch: 50 [0/100 (0%)]\tLoss: 2.009273\n",
            "Train Epoch: 55 [0/100 (0%)]\tLoss: 1.900102\n",
            "Train Epoch: 60 [0/100 (0%)]\tLoss: 1.762625\n",
            "Train Epoch: 65 [0/100 (0%)]\tLoss: 1.578496\n",
            "Train Epoch: 70 [0/100 (0%)]\tLoss: 1.323992\n",
            "Train Epoch: 75 [0/100 (0%)]\tLoss: 2.475161\n",
            "Train Epoch: 80 [0/100 (0%)]\tLoss: 2.053359\n",
            "Train Epoch: 85 [0/100 (0%)]\tLoss: 2.142391\n",
            "Train Epoch: 90 [0/100 (0%)]\tLoss: 2.037991\n",
            "Train Epoch: 95 [0/100 (0%)]\tLoss: 1.769239\n",
            "\n",
            "Test set: Average loss: 2.6951, Accuracy: 358/2000 (17.90%)\n",
            "\n",
            "Acc over 2 instances: 18.55 +- 0.65\n"
          ],
          "name": "stdout"
        }
      ]
    },
    {
      "cell_type": "markdown",
      "metadata": {
        "id": "A8GlJkOdfYY0"
      },
      "source": [
        "***Challenge 2***\n",
        "\n",
        "You may use the same testbed but without the constraints on external datasets or models trained on exeternal datasets. You may not however use any of the CIFAR-10 training set. "
      ]
    },
    {
      "cell_type": "code",
      "metadata": {
        "id": "ruZAzs5RilDy"
      },
      "source": [
        "import torchvision.models as models\n",
        "\n"
      ],
      "execution_count": null,
      "outputs": []
    },
    {
      "cell_type": "code",
      "metadata": {
        "colab": {
          "base_uri": "https://localhost:8080/"
        },
        "id": "dktQa6mWiHYZ",
        "outputId": "99326fd8-506e-407c-d55f-ed04a94b4ee4"
      },
      "source": [
        "from numpy.random import RandomState\n",
        "import numpy as np\n",
        "import torch\n",
        "import torch.optim as optim\n",
        "from torch.utils.data import Subset\n",
        "\n",
        "  \n",
        "from torchvision import datasets, transforms\n",
        "normalize = transforms.Normalize(mean=[0.485, 0.456, 0.406],\n",
        "                                  std=[0.229, 0.224, 0.225])\n",
        "\n",
        "# We resize images to allow using imagenet pre-trained models, is there a better way?\n",
        "resize = transforms.Resize(224) \n",
        "\n",
        "transform_val = transforms.Compose([resize, transforms.ToTensor(), normalize]) #careful to keep this one same\n",
        "transform_train = transforms.Compose([resize, transforms.ToTensor(), normalize]) \n",
        "\n",
        "use_cuda = torch.cuda.is_available()\n",
        "device = torch.device(\"cuda\" if use_cuda else \"cpu\")\n",
        "print(device) # you will really need gpu's for this part\n",
        "    \n",
        "##### Cifar Data\n",
        "cifar_data = datasets.CIFAR10(root='.',train=True, transform=transform_train, download=True)\n",
        "    \n",
        "#We need two copies of this due to weird dataset api \n",
        "cifar_data_val = datasets.CIFAR10(root='.',train=True, transform=transform_val, download=True)\n",
        "    \n",
        "# Extract a subset of 100 (class balanced) samples per class\n",
        "\n",
        "accs = []\n",
        "\n",
        "for seed in [1,2]:\n",
        "  prng = RandomState(seed)\n",
        "  random_permute = prng.permutation(np.arange(0, 5000))\n",
        "  indx_train = np.concatenate([np.where(np.array(cifar_data.targets) == classe)[0][random_permute[0:10]] for classe in range(0, 10)])\n",
        "  indx_val = np.concatenate([np.where(np.array(cifar_data.targets) == classe)[0][random_permute[10:210]] for classe in range(0, 10)])\n",
        "\n",
        "  train_data = Subset(cifar_data, indx_train)\n",
        "  val_data = Subset(cifar_data_val, indx_val)\n",
        "\n",
        "  print('Num Samples For Training %d Num Samples For Val %d'%(train_data.indices.shape[0],val_data.indices.shape[0]))\n",
        "  \n",
        "  train_loader = torch.utils.data.DataLoader(train_data,\n",
        "                                             batch_size=128, \n",
        "                                             shuffle=True)\n",
        "\n",
        "  val_loader = torch.utils.data.DataLoader(val_data,\n",
        "                                           batch_size=128, \n",
        "                                           shuffle=False)\n",
        "  \n",
        "\n",
        "  model = models.alexnet(pretrained=True)\n",
        "  model.classifier = nn.Linear(256 * 6 * 6, 10)\n",
        "  optimizer = torch.optim.SGD(model.classifier.parameters(), \n",
        "                              lr=0.01, momentum=0.9,\n",
        "                              weight_decay=0.0005)\n",
        "  model.to(device)\n",
        "  for epoch in range(10):\n",
        "    train(model, device, train_loader, optimizer, epoch, display=True)\n",
        "    \n",
        "  accs.append(test(model, device, val_loader))\n",
        "\n",
        "accs = np.array(accs)\n",
        "print('Acc over 2 instances: %.2f +- %.2f'%(accs.mean(),accs.std()))"
      ],
      "execution_count": null,
      "outputs": [
        {
          "output_type": "stream",
          "text": [
            "cuda\n",
            "Files already downloaded and verified\n",
            "Files already downloaded and verified\n",
            "Num Samples For Training 100 Num Samples For Val 2000\n",
            "Train Epoch: 0 [0/100 (0%)]\tLoss: 2.508620\n",
            "Train Epoch: 1 [0/100 (0%)]\tLoss: 1.984713\n",
            "Train Epoch: 2 [0/100 (0%)]\tLoss: 0.988828\n",
            "Train Epoch: 3 [0/100 (0%)]\tLoss: 0.455914\n",
            "Train Epoch: 4 [0/100 (0%)]\tLoss: 0.129157\n",
            "Train Epoch: 5 [0/100 (0%)]\tLoss: 0.085641\n",
            "Train Epoch: 6 [0/100 (0%)]\tLoss: 0.050821\n",
            "Train Epoch: 7 [0/100 (0%)]\tLoss: 0.023876\n",
            "Train Epoch: 8 [0/100 (0%)]\tLoss: 0.010803\n",
            "Train Epoch: 9 [0/100 (0%)]\tLoss: 0.005150\n"
          ],
          "name": "stdout"
        },
        {
          "output_type": "stream",
          "text": [
            "/usr/local/lib/python3.6/dist-packages/torch/nn/_reduction.py:44: UserWarning: size_average and reduce args will be deprecated, please use reduction='sum' instead.\n",
            "  warnings.warn(warning.format(ret))\n"
          ],
          "name": "stderr"
        },
        {
          "output_type": "stream",
          "text": [
            "\n",
            "Test set: Average loss: 1.7421, Accuracy: 982/2000 (49.10%)\n",
            "\n",
            "Num Samples For Training 100 Num Samples For Val 2000\n",
            "Train Epoch: 0 [0/100 (0%)]\tLoss: 2.355653\n",
            "Train Epoch: 1 [0/100 (0%)]\tLoss: 1.850445\n",
            "Train Epoch: 2 [0/100 (0%)]\tLoss: 0.962296\n",
            "Train Epoch: 3 [0/100 (0%)]\tLoss: 0.504608\n",
            "Train Epoch: 4 [0/100 (0%)]\tLoss: 0.173336\n",
            "Train Epoch: 5 [0/100 (0%)]\tLoss: 0.099966\n",
            "Train Epoch: 6 [0/100 (0%)]\tLoss: 0.055117\n",
            "Train Epoch: 7 [0/100 (0%)]\tLoss: 0.025471\n",
            "Train Epoch: 8 [0/100 (0%)]\tLoss: 0.012577\n",
            "Train Epoch: 9 [0/100 (0%)]\tLoss: 0.007205\n",
            "\n",
            "Test set: Average loss: 1.5719, Accuracy: 1039/2000 (51.95%)\n",
            "\n",
            "Acc over 2 instances: 50.53 +- 1.43\n"
          ],
          "name": "stdout"
        }
      ]
    }
  ]
}